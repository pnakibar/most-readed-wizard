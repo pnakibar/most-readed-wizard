{
 "cells": [
  {
   "cell_type": "code",
   "execution_count": 53,
   "metadata": {},
   "outputs": [],
   "source": [
    "import pandas as pd\n",
    "from collections import Counter\n",
    "import matplotlib.pyplot as plt\n",
    "import numpy as np\n",
    "\n"
   ]
  },
  {
   "cell_type": "code",
   "execution_count": 2,
   "metadata": {},
   "outputs": [],
   "source": [
    "veja = pd.read_csv('veja.csv')"
   ]
  },
  {
   "cell_type": "code",
   "execution_count": 7,
   "metadata": {},
   "outputs": [],
   "source": [
    "columnsWithTheme = list(filter(lambda column: 'Tema' in column, veja.columns))"
   ]
  },
  {
   "cell_type": "code",
   "execution_count": 59,
   "metadata": {},
   "outputs": [
    {
     "ename": "NameError",
     "evalue": "name 'dictionary' is not defined",
     "output_type": "error",
     "traceback": [
      "\u001b[0;31m---------------------------------------------------------------------------\u001b[0m",
      "\u001b[0;31mNameError\u001b[0m                                 Traceback (most recent call last)",
      "\u001b[0;32m<ipython-input-59-dcc1af75f226>\u001b[0m in \u001b[0;36m<module>\u001b[0;34m\u001b[0m\n\u001b[0;32m----> 1\u001b[0;31m \u001b[0mdictionary\u001b[0m\u001b[0;34m(\u001b[0m\u001b[0;34m)\u001b[0m\u001b[0;34m\u001b[0m\u001b[0;34m\u001b[0m\u001b[0m\n\u001b[0m",
      "\u001b[0;31mNameError\u001b[0m: name 'dictionary' is not defined"
     ]
    }
   ],
   "source": [
    "dictionary()"
   ]
  },
  {
   "cell_type": "code",
   "execution_count": 66,
   "metadata": {},
   "outputs": [],
   "source": [
    "allThemes = Counter()\n",
    "for column in columnsWithTheme:\n",
    "    for theme in veja[column]:\n",
    "        allThemes[theme] += 1\n",
    "allThemes = dict(allThemes)"
   ]
  },
  {
   "cell_type": "code",
   "execution_count": 110,
   "metadata": {},
   "outputs": [
    {
     "data": {
      "text/plain": [
       "{'outros': 19,\n",
       " 'esporte': 135,\n",
       " 'brasil': 1027,\n",
       " 'entretenimento': 1452,\n",
       " 'mundo': 503,\n",
       " 'economia': 742,\n",
       " 'politica': 1014,\n",
       " 'saude': 239,\n",
       " 'ciencia': 106,\n",
       " 'tecnologia': 20,\n",
       " 'blog': 1585,\n",
       " 'placar': 225,\n",
       " 'educacao': 48,\n",
       " 'tveja': 70,\n",
       " 'revista-veja': 47,\n",
       " 'blogs': 1,\n",
       " 'especiais': 4,\n",
       " 'ideias': 2,\n",
       " 'gastronomia': 1}"
      ]
     },
     "execution_count": 110,
     "metadata": {},
     "output_type": "execute_result"
    }
   ],
   "source": [
    "wantedKeys = ['esporte', 'brasil', 'entretenimento', 'mundo', 'economia', 'politica', 'saude', 'ciencia', 'tecnologia', 'blog', 'placar', 'educacao', 'tveja', 'revista-veja', 'blogs', 'especiais', 'ideias', 'gastronomia']\n",
    "unwantedKeys = set(allThemes.keys()) - set(wantedKeys)\n",
    "\n",
    "\n",
    "for key in wantedKeys:\n",
    "    themesFiltered[key] = allThemes[key]\n",
    "\n",
    "themesFiltered = { 'outros': 0 }\n",
    "\n",
    "for key in unwantedKeys:\n",
    "    themesFiltered['outros'] += allThemes[key]\n",
    "\n",
    "themesFiltered"
   ]
  },
  {
   "cell_type": "code",
   "execution_count": 111,
   "metadata": {},
   "outputs": [
    {
     "data": {
      "image/png": "[encoded data removed]",
      "text/plain": [
       "<Figure size 432x288 with 1 Axes>"
      ]
     },
     "metadata": {
      "needs_background": "light"
     },
     "output_type": "display_data"
    }
   ],
   "source": [
    "\n",
    "index = np.arange(len(themesFiltered.keys()))\n",
    "# i = plt.bar(allThemes.keys(), allThemes.values())\n",
    "plt.bar(index, themesFiltered.values())\n",
    "plt.xlabel('Tema', fontsize=10)\n",
    "plt.ylabel('Quantitidade', fontsize=10)\n",
    "plt.xticks(index, themesFiltered.keys(), fontsize=10, rotation=30)\n",
    "plt.title('Quantidade de notícias por tema - Veja (2017-2019)')\n",
    "plt.savefig('veja.png')"
   ]
  },
  {
   "cell_type": "code",
   "execution_count": 89,
   "metadata": {},
   "outputs": [],
   "source": [
    "allThemes.get(float('nan'))"
   ]
  },
  {
   "cell_type": "code",
   "execution_count": 93,
   "metadata": {},
   "outputs": [
    {
     "data": {
      "text/plain": [
       "dict_keys(['esporte', 'brasil', 'entretenimento', 'mundo', 'economia', 'politica', 'saude', 'ciencia', 'tecnologia', 'blog', 'placar', 'educacao', 'tveja', 'revista-veja', nan, '?post_type=blog_post&p=2389127', 'galeria-fotos', 'blogs', 'especiais', 'ideias', '?p=2643144', '?p=1833069', 'gastronomia'])"
      ]
     },
     "execution_count": 93,
     "metadata": {},
     "output_type": "execute_result"
    }
   ],
   "source": [
    "allThemes.keys()"
   ]
  },
  {
   "cell_type": "code",
   "execution_count": null,
   "metadata": {},
   "outputs": [],
   "source": []
  }
 ],
 "metadata": {
  "kernelspec": {
   "display_name": "Python 3",
   "language": "python",
   "name": "python3"
  },
  "language_info": {
   "codemirror_mode": {
    "name": "ipython",
    "version": 3
   },
   "file_extension": ".py",
   "mimetype": "text/x-python",
   "name": "python",
   "nbconvert_exporter": "python",
   "pygments_lexer": "ipython3",
   "version": "3.7.3"
  }
 },
 "nbformat": 4,
 "nbformat_minor": 2
}
