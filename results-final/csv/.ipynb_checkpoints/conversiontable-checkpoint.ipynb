{
 "cells": [
  {
   "cell_type": "markdown",
   "metadata": {},
   "source": [
    "# Gerar tabela de conversão"
   ]
  },
  {
   "cell_type": "code",
   "execution_count": null,
   "metadata": {},
   "outputs": [],
   "source": [
    "import pandas as pd\n",
    "from collections import Counter\n",
    "import matplotlib.pyplot as plt\n",
    "import numpy as np\n",
    "\n",
    "plt.rcParams['figure.dpi']= 150\n",
    "\n",
    "veja = pd.read_csv('veja.csv')\n",
    "folha = pd.read_csv('folha.csv')\n",
    "estadao = pd.read_csv('estadao.csv')\n",
    "uol = pd.read_csv('uol.csv')"
   ]
  },
  {
   "cell_type": "code",
   "execution_count": 16,
   "metadata": {},
   "outputs": [
    {
     "data": {
      "text/plain": [
       "{'esporte': 135,\n",
       " 'brasil': 1027,\n",
       " 'entretenimento': 1452,\n",
       " 'mundo': 503,\n",
       " 'economia': 742,\n",
       " 'politica': 1014,\n",
       " 'saude': 239,\n",
       " 'ciencia': 106,\n",
       " 'tecnologia': 20,\n",
       " 'blog': 1585,\n",
       " 'placar': 225,\n",
       " 'educacao': 48,\n",
       " 'tveja': 70,\n",
       " 'revista-veja': 47,\n",
       " nan: 9,\n",
       " '?post_type=blog_post&p=2389127': 1,\n",
       " 'galeria-fotos': 6,\n",
       " 'blogs': 1,\n",
       " 'especiais': 4,\n",
       " 'ideias': 2,\n",
       " '?p=2643144': 2,\n",
       " '?p=1833069': 1,\n",
       " 'gastronomia': 1}"
      ]
     },
     "execution_count": 16,
     "metadata": {},
     "output_type": "execute_result"
    }
   ],
   "source": [
    "def getColumnsWithThemes(f):\n",
    "    return list(filter(lambda column: 'Tema' in column, f.columns))\n",
    "\n",
    "def getColumnsValues(f):\n",
    "    allThemes = set()\n",
    "    for column in getColumnsWithThemes(f):\n",
    "        for theme in f[column]:\n",
    "            allThemes[theme] += 1\n",
    "    return dict(allThemes)\n",
    "\n",
    "\n",
    "getColumnsValues(veja)\n"
   ]
  },
  {
   "cell_type": "code",
   "execution_count": 11,
   "metadata": {},
   "outputs": [],
   "source": []
  },
  {
   "cell_type": "code",
   "execution_count": 13,
   "metadata": {},
   "outputs": [],
   "source": []
  },
  {
   "cell_type": "code",
   "execution_count": null,
   "metadata": {},
   "outputs": [],
   "source": []
  }
 ],
 "metadata": {
  "kernelspec": {
   "display_name": "Python 3",
   "language": "python",
   "name": "python3"
  },
  "language_info": {
   "codemirror_mode": {
    "name": "ipython",
    "version": 3
   },
   "file_extension": ".py",
   "mimetype": "text/x-python",
   "name": "python",
   "nbconvert_exporter": "python",
   "pygments_lexer": "ipython3",
   "version": "3.7.3"
  }
 },
 "nbformat": 4,
 "nbformat_minor": 2
}
